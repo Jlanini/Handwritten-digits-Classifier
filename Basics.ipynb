{
 "cells": [
  {
   "cell_type": "markdown",
   "metadata": {
    "collapsed": true
   },
   "source": [
    "# Building a Handwritten Digits Classifier"
   ]
  },
  {
   "cell_type": "markdown",
   "metadata": {},
   "source": [
    "In this project we will first of all consider the complexity behind image classification, then we will evaluate limitations of traditional machine learning models for image classification and finally we will develop few different neural networks for image classification.\n",
    "\n",
    "Image classification is a hard task for different reasons: first of all the image in a training set is high dimensional, considering that each pixel in an image is a feature; morevorer, sometimes we lose details which can be useful during the training process since the images are often downsampled. Finally the features in an image do not have linear or nonlinear relationship that can be learned with a traditional model like linear or logistic regression (e.g. in grayscale, each pixel is just represented as a brightness value ranging from 0 to 256). \n",
    "Thanks to it's ability in learning hierarchical representations, deep learning is effective in image classification. Indeed each layer will learn a specific intermediate representation and each successive layer uses weights from previous layers to try to learn more complex representations. \n",
    "\n",
    "The dataset we will use for this project is the one stored in skleran.datasets, that can be accessed by the function *load_digits()* and that is a copy of the [hand-written digits dataset](http://archive.ics.uci.edu/ml/datasets/Optical+Recognition+of+Handwritten+Digits) from UCI.\n"
   ]
  },
  {
   "cell_type": "markdown",
   "metadata": {},
   "source": [
    "### Summary of the Results"
   ]
  },
  {
   "cell_type": "markdown",
   "metadata": {},
   "source": [
    "Both k-nn method and one single layer with 8 neurons have good accuracy in the cassification of handwritten digits. Nevertheless, if one considers all the downsides of the k-nn algorithm, e.g. high memory usage and the fact that there is no model representation to debug and explore, the developed neural network seems to be the best option."
   ]
  },
  {
   "cell_type": "markdown",
   "metadata": {},
   "source": [
    "## Dataset Evaluation "
   ]
  },
  {
   "cell_type": "markdown",
   "metadata": {},
   "source": [
    "Let us first import the needed libraries, as follows:"
   ]
  },
  {
   "cell_type": "code",
   "execution_count": 1,
   "metadata": {},
   "outputs": [],
   "source": [
    "import os\n",
    "import pandas as pd\n",
    "import json\n",
    "import matplotlib\n",
    "import math\n",
    "import numpy as np\n",
    "import matplotlib.pyplot as plt\n",
    "import seaborn as sns    # seaborn is commonly imported as `sns`\n",
    "import matplotlib.pyplot as plt\n",
    "import warnings\n",
    "warnings.filterwarnings('ignore')\n",
    "\n",
    "from sklearn.datasets import load_digits\n",
    "from sklearn.neighbors import KNeighborsClassifier\n",
    "from sklearn.neural_network import MLPClassifier\n",
    "from sklearn.model_selection import cross_val_score, KFold\n",
    "from sklearn.metrics import mean_squared_error\n",
    "from sklearn.metrics import accuracy_score"
   ]
  },
  {
   "cell_type": "code",
   "execution_count": 2,
   "metadata": {},
   "outputs": [],
   "source": [
    "raw_data = load_digits()"
   ]
  },
  {
   "cell_type": "code",
   "execution_count": 3,
   "metadata": {},
   "outputs": [
    {
     "data": {
      "text/plain": [
       "{'DESCR': \".. _digits_dataset:\\n\\nOptical recognition of handwritten digits dataset\\n--------------------------------------------------\\n\\n**Data Set Characteristics:**\\n\\n    :Number of Instances: 5620\\n    :Number of Attributes: 64\\n    :Attribute Information: 8x8 image of integer pixels in the range 0..16.\\n    :Missing Attribute Values: None\\n    :Creator: E. Alpaydin (alpaydin '@' boun.edu.tr)\\n    :Date: July; 1998\\n\\nThis is a copy of the test set of the UCI ML hand-written digits datasets\\nhttp://archive.ics.uci.edu/ml/datasets/Optical+Recognition+of+Handwritten+Digits\\n\\nThe data set contains images of hand-written digits: 10 classes where\\neach class refers to a digit.\\n\\nPreprocessing programs made available by NIST were used to extract\\nnormalized bitmaps of handwritten digits from a preprinted form. From a\\ntotal of 43 people, 30 contributed to the training set and different 13\\nto the test set. 32x32 bitmaps are divided into nonoverlapping blocks of\\n4x4 and the number of on pixels are counted in each block. This generates\\nan input matrix of 8x8 where each element is an integer in the range\\n0..16. This reduces dimensionality and gives invariance to small\\ndistortions.\\n\\nFor info on NIST preprocessing routines, see M. D. Garris, J. L. Blue, G.\\nT. Candela, D. L. Dimmick, J. Geist, P. J. Grother, S. A. Janet, and C.\\nL. Wilson, NIST Form-Based Handprint Recognition System, NISTIR 5469,\\n1994.\\n\\n.. topic:: References\\n\\n  - C. Kaynak (1995) Methods of Combining Multiple Classifiers and Their\\n    Applications to Handwritten Digit Recognition, MSc Thesis, Institute of\\n    Graduate Studies in Science and Engineering, Bogazici University.\\n  - E. Alpaydin, C. Kaynak (1998) Cascading Classifiers, Kybernetika.\\n  - Ken Tang and Ponnuthurai N. Suganthan and Xi Yao and A. Kai Qin.\\n    Linear dimensionalityreduction using relevance weighted LDA. School of\\n    Electrical and Electronic Engineering Nanyang Technological University.\\n    2005.\\n  - Claudio Gentile. A New Approximate Maximal Margin Classification\\n    Algorithm. NIPS. 2000.\",\n",
       " 'data': array([[ 0.,  0.,  5., ...,  0.,  0.,  0.],\n",
       "        [ 0.,  0.,  0., ..., 10.,  0.,  0.],\n",
       "        [ 0.,  0.,  0., ..., 16.,  9.,  0.],\n",
       "        ...,\n",
       "        [ 0.,  0.,  1., ...,  6.,  0.,  0.],\n",
       "        [ 0.,  0.,  2., ..., 12.,  0.,  0.],\n",
       "        [ 0.,  0., 10., ..., 12.,  1.,  0.]]),\n",
       " 'images': array([[[ 0.,  0.,  5., ...,  1.,  0.,  0.],\n",
       "         [ 0.,  0., 13., ..., 15.,  5.,  0.],\n",
       "         [ 0.,  3., 15., ..., 11.,  8.,  0.],\n",
       "         ...,\n",
       "         [ 0.,  4., 11., ..., 12.,  7.,  0.],\n",
       "         [ 0.,  2., 14., ..., 12.,  0.,  0.],\n",
       "         [ 0.,  0.,  6., ...,  0.,  0.,  0.]],\n",
       " \n",
       "        [[ 0.,  0.,  0., ...,  5.,  0.,  0.],\n",
       "         [ 0.,  0.,  0., ...,  9.,  0.,  0.],\n",
       "         [ 0.,  0.,  3., ...,  6.,  0.,  0.],\n",
       "         ...,\n",
       "         [ 0.,  0.,  1., ...,  6.,  0.,  0.],\n",
       "         [ 0.,  0.,  1., ...,  6.,  0.,  0.],\n",
       "         [ 0.,  0.,  0., ..., 10.,  0.,  0.]],\n",
       " \n",
       "        [[ 0.,  0.,  0., ..., 12.,  0.,  0.],\n",
       "         [ 0.,  0.,  3., ..., 14.,  0.,  0.],\n",
       "         [ 0.,  0.,  8., ..., 16.,  0.,  0.],\n",
       "         ...,\n",
       "         [ 0.,  9., 16., ...,  0.,  0.,  0.],\n",
       "         [ 0.,  3., 13., ..., 11.,  5.,  0.],\n",
       "         [ 0.,  0.,  0., ..., 16.,  9.,  0.]],\n",
       " \n",
       "        ...,\n",
       " \n",
       "        [[ 0.,  0.,  1., ...,  1.,  0.,  0.],\n",
       "         [ 0.,  0., 13., ...,  2.,  1.,  0.],\n",
       "         [ 0.,  0., 16., ..., 16.,  5.,  0.],\n",
       "         ...,\n",
       "         [ 0.,  0., 16., ..., 15.,  0.,  0.],\n",
       "         [ 0.,  0., 15., ..., 16.,  0.,  0.],\n",
       "         [ 0.,  0.,  2., ...,  6.,  0.,  0.]],\n",
       " \n",
       "        [[ 0.,  0.,  2., ...,  0.,  0.,  0.],\n",
       "         [ 0.,  0., 14., ..., 15.,  1.,  0.],\n",
       "         [ 0.,  4., 16., ..., 16.,  7.,  0.],\n",
       "         ...,\n",
       "         [ 0.,  0.,  0., ..., 16.,  2.,  0.],\n",
       "         [ 0.,  0.,  4., ..., 16.,  2.,  0.],\n",
       "         [ 0.,  0.,  5., ..., 12.,  0.,  0.]],\n",
       " \n",
       "        [[ 0.,  0., 10., ...,  1.,  0.,  0.],\n",
       "         [ 0.,  2., 16., ...,  1.,  0.,  0.],\n",
       "         [ 0.,  0., 15., ..., 15.,  0.,  0.],\n",
       "         ...,\n",
       "         [ 0.,  4., 16., ..., 16.,  6.,  0.],\n",
       "         [ 0.,  8., 16., ..., 16.,  8.,  0.],\n",
       "         [ 0.,  1.,  8., ..., 12.,  1.,  0.]]]),\n",
       " 'target': array([0, 1, 2, ..., 8, 9, 8]),\n",
       " 'target_names': array([0, 1, 2, 3, 4, 5, 6, 7, 8, 9])}"
      ]
     },
     "execution_count": 3,
     "metadata": {},
     "output_type": "execute_result"
    }
   ],
   "source": [
    "raw_data"
   ]
  },
  {
   "cell_type": "code",
   "execution_count": 4,
   "metadata": {},
   "outputs": [
    {
     "data": {
      "image/png": "[encoded data removed]",
      "text/plain": [
       "<Figure size 288x288 with 1 Axes>"
      ]
     },
     "metadata": {
      "needs_background": "light"
     },
     "output_type": "display_data"
    }
   ],
   "source": [
    "# Let us explore what is stored in the image part of the raw_data\n",
    "import matplotlib.pyplot as plt \n",
    "%matplotlib inline\n",
    "#plt.gray() \n",
    "plt.matshow(raw_data.images[3]) \n",
    "plt.show() "
   ]
  },
  {
   "cell_type": "markdown",
   "metadata": {},
   "source": [
    "As we can see *raw_data* contains several fields, in particular: *data, images, target and target_name*. We can use the *data* field in order to create the dataframe."
   ]
  },
  {
   "cell_type": "code",
   "execution_count": 5,
   "metadata": {},
   "outputs": [],
   "source": [
    "# Convert raw_data.data into a dataframe unsing pandas and store the target values into the variable labels\n",
    "df = pd.DataFrame(raw_data.data)\n",
    "labels = raw_data.target"
   ]
  },
  {
   "cell_type": "code",
   "execution_count": 6,
   "metadata": {},
   "outputs": [
    {
     "data": {
      "text/plain": [
       "(1797, 64)"
      ]
     },
     "execution_count": 6,
     "metadata": {},
     "output_type": "execute_result"
    }
   ],
   "source": [
    "df.shape"
   ]
  },
  {
   "cell_type": "markdown",
   "metadata": {
    "collapsed": true
   },
   "source": [
    "Because dataframes are a tabular representation of data, each image is represented as a row of pixel values (1 x 64). To visualize an image from the dataframe, we need to reshape the image back to its original dimensions (8 x 8 pixels). To visualize the image, we need to reshape these pixel values back into the 8 by 8 and plot them on a coordinate grid."
   ]
  },
  {
   "cell_type": "code",
   "execution_count": 7,
   "metadata": {},
   "outputs": [
    {
     "data": {
      "image/png": "[encoded data removed]",
      "text/plain": [
       "<Figure size 720x720 with 8 Axes>"
      ]
     },
     "metadata": {
      "needs_background": "light"
     },
     "output_type": "display_data"
    }
   ],
   "source": [
    "# Let us consider specific rows of the dataframe which are  \n",
    "# associated to specific images\n",
    "images = [0, 100, 200, 300, 1100, 1200, 1300, 1400]\n",
    "images_collect = []\n",
    "# let us collect the images in a list\n",
    "for im in images:\n",
    "    first_image = df.iloc[im]\n",
    "    np_image = first_image.values\n",
    "    images_collect.append(np_image.reshape(8,8))\n",
    "    \n",
    "# Let us plot the images in a scatter plot grid\n",
    "f, axes = plt.subplots(2, 4, figsize=(10,10))\n",
    "for idx in range (axes.shape[1]):\n",
    "    axes[0, idx].imshow(images_collect[idx])\n",
    "    axes[1, idx].imshow(images_collect[idx+4])\n",
    "    "
   ]
  },
  {
   "cell_type": "markdown",
   "metadata": {},
   "source": [
    "As expected by reshaping each row of the dataframe we can obtain again the original images."
   ]
  },
  {
   "cell_type": "markdown",
   "metadata": {},
   "source": [
    "## Predicting Handwritten Digits"
   ]
  },
  {
   "cell_type": "markdown",
   "metadata": {},
   "source": [
    "In this project we will explore two main algortihms for predicting handwritten digits: k-nearest neighbors and neural networks."
   ]
  },
  {
   "cell_type": "markdown",
   "metadata": {},
   "source": [
    "### K-nearest neighbors"
   ]
  },
  {
   "cell_type": "markdown",
   "metadata": {},
   "source": [
    "While linear and logistic regression models make assumptions about the linearity between the features and the output labels, the k-nearest neighbors (k-nn) algorithm make no such assumption. This allows k-nn to capture nonlinearity in the data since it does not have a specific model representation (hence why it's referred to as an algorithm and not a model).\n",
    "\n",
    "The k-nn algorithm compares every unseen observation in the test set to all (or many, as some implementations constrain the search space) training observations to look for similar (or the \"nearest\") observations. Then, the algorithm finds the label with the most nearby observations and assigns that as the prediction for the unseen observation."
   ]
  },
  {
   "cell_type": "markdown",
   "metadata": {},
   "source": [
    "Let us first define a useful function called **cross_validation** that realizes inside a k-folds cross validation given the model to be used, the features and the labels and finally the number of folds."
   ]
  },
  {
   "cell_type": "code",
   "execution_count": 8,
   "metadata": {},
   "outputs": [],
   "source": [
    "def cross_validate(model, features, labels, folds):\n",
    "    # Let us use KFold to provide train/test indices to split data into train/test sets\n",
    "    kf = KFold(n_splits=folds, shuffle=True, random_state=3)\n",
    "    mse_values_test=[]\n",
    "    mse_values_train=[]\n",
    "    acc_values_test=[]\n",
    "    acc_values_train=[]\n",
    "    iterat = 0\n",
    "    print('------------')\n",
    "    # Iterate through over each fold.\n",
    "    for train_index, test_index in kf.split(features):\n",
    "        iterat = iterat+1\n",
    "        print('iteration #' + str(iterat))\n",
    "    # Training and test sets.\n",
    "        X_train, X_test = features.iloc[train_index], features.iloc[test_index]\n",
    "        y_train, y_test = labels[train_index], labels[test_index]\n",
    "\n",
    "    # Fit the model and make predictions using both the test and train sets\n",
    "        model.fit(X_train, y_train)\n",
    "        predictions_test = model.predict(X_test)\n",
    "        predictions_train = model.predict(X_train)\n",
    "    # Calculate mse and accuracy values for this fold (train and test).\n",
    "        mse_test = mean_squared_error(y_test, predictions_test)\n",
    "        mse_train = mean_squared_error(y_train, predictions_train)\n",
    "        acc_test = accuracy_score(y_test, predictions_test)\n",
    "        acc_train = accuracy_score(y_train, predictions_train)\n",
    "\n",
    "    # Append to arrays to calculate overall average mse values.\n",
    "        mse_values_test.append(mse_test)\n",
    "        mse_values_train.append(mse_train)\n",
    "        acc_values_test.append(acc_test)\n",
    "        acc_values_train.append(acc_train)\n",
    "    # compute and return average accuracy and mean squared error fro train and test sets.    \n",
    "    avg_mse_test = np.mean(mse_values_test)\n",
    "    avg_mse_train = np.mean(mse_values_train)\n",
    "    avg_acc_test = np.mean(acc_values_test)\n",
    "    avg_acc_train = np.mean(acc_values_train)\n",
    "    return(avg_mse_test, avg_mse_train, avg_acc_test, avg_acc_train)\n",
    "    "
   ]
  },
  {
   "cell_type": "markdown",
   "metadata": {},
   "source": [
    "Let us implement ten k-nn models with different k value (from 1 ot 10). For each model we will use the function **cross_validate** to compute the average accuracy and mean squared error for the test and the train set."
   ]
  },
  {
   "cell_type": "code",
   "execution_count": 9,
   "metadata": {},
   "outputs": [
    {
     "name": "stdout",
     "output_type": "stream",
     "text": [
      "------------\n",
      "iteration #1\n",
      "iteration #2\n",
      "iteration #3\n",
      "iteration #4\n",
      "------------\n",
      "iteration #1\n",
      "iteration #2\n",
      "iteration #3\n",
      "iteration #4\n",
      "------------\n",
      "iteration #1\n",
      "iteration #2\n",
      "iteration #3\n",
      "iteration #4\n",
      "------------\n",
      "iteration #1\n",
      "iteration #2\n",
      "iteration #3\n",
      "iteration #4\n",
      "------------\n",
      "iteration #1\n",
      "iteration #2\n",
      "iteration #3\n",
      "iteration #4\n",
      "------------\n",
      "iteration #1\n",
      "iteration #2\n",
      "iteration #3\n",
      "iteration #4\n",
      "------------\n",
      "iteration #1\n",
      "iteration #2\n",
      "iteration #3\n",
      "iteration #4\n",
      "------------\n",
      "iteration #1\n",
      "iteration #2\n",
      "iteration #3\n",
      "iteration #4\n",
      "------------\n",
      "iteration #1\n",
      "iteration #2\n",
      "iteration #3\n",
      "iteration #4\n",
      "------------\n",
      "iteration #1\n",
      "iteration #2\n",
      "iteration #3\n",
      "iteration #4\n"
     ]
    }
   ],
   "source": [
    "mse_vect_test = []\n",
    "mse_vect_train = []\n",
    "acc_vect_test = []\n",
    "acc_vect_train = []\n",
    "k_values = [1, 2, 3, 4,  5, 6, 7, 8, 9, 10]\n",
    "for k in k_values:\n",
    "    model = KNeighborsClassifier(n_neighbors=k)\n",
    "    avg_mse_test, avg_mse_train, avg_acc_test, avg_acc_train = cross_validate(model, df, labels, 4)\n",
    "    mse_vect_test.append(avg_mse_test)\n",
    "    mse_vect_train.append(avg_mse_train)\n",
    "    acc_vect_test.append(avg_acc_test)\n",
    "    acc_vect_train.append(avg_acc_train)"
   ]
  },
  {
   "cell_type": "code",
   "execution_count": 10,
   "metadata": {},
   "outputs": [
    {
     "name": "stdout",
     "output_type": "stream",
     "text": [
      "The Accuracy for k =  1  is acc =  0.9860876020786935\n",
      "The Accuracy for k =  2  is acc =  0.984419698094531\n",
      "The Accuracy for k =  3  is acc =  0.988870329126454\n",
      "The Accuracy for k =  4  is acc =  0.9849764909675823\n",
      "The Accuracy for k =  5  is acc =  0.9855320465231378\n",
      "The Accuracy for k =  6  is acc =  0.9838641425389755\n",
      "The Accuracy for k =  7  is acc =  0.9833061123484287\n",
      "The Accuracy for k =  8  is acc =  0.9821925266023261\n",
      "The Accuracy for k =  9  is acc =  0.9788567186340015\n",
      "The Accuracy for k =  10  is acc =  0.9794147488245484\n"
     ]
    }
   ],
   "source": [
    "for i in range (len(acc_vect_test)):\n",
    "    print 'The Accuracy for k = ',i+1,' is acc = ', acc_vect_test[i]"
   ]
  },
  {
   "cell_type": "code",
   "execution_count": 11,
   "metadata": {},
   "outputs": [
    {
     "data": {
      "image/png": "[encoded data removed]",
      "text/plain": [
       "<Figure size 504x504 with 1 Axes>"
      ]
     },
     "metadata": {},
     "output_type": "display_data"
    }
   ],
   "source": [
    "# plot accuracy results\n",
    "plt.style.use('fivethirtyeight')\n",
    "plt.figure(figsize=(7,7))\n",
    "plt.scatter(k_values, acc_vect_test, s=80)\n",
    "plt.scatter(k_values, acc_vect_train, s=80, c = 'red')\n",
    "plt.title('Accuracy for different k values for k-nn')\n",
    "plt.legend(['Test Set', 'Training Set'])\n",
    "plt.ylabel('Accuracy')\n",
    "plt.xlabel('k values')\n",
    "plt.show()"
   ]
  },
  {
   "cell_type": "markdown",
   "metadata": {},
   "source": [
    "The previous plot shows a maximum accuracy for k=3. For smaller values of k it is possible that the model is too complex and it overfits (which means that, even though the train accuracy could be higher, in the case of test accuracy, as computed in the function **cross_validate**, the accuracy will be lower). On the other hand, for highest values of k, it may underfit and thus the accuracy decreases. \n",
    "In the case of training accuracy, as expected, there is a monotonic decrease of the accuracy with respect to the k values. It is clear, in this case, that for low values of k, e.g. k = 1, 2, the model overfits (big difference between train and test accuracy)."
   ]
  },
  {
   "cell_type": "markdown",
   "metadata": {},
   "source": [
    "#### Observations:\n",
    "There are a few downsides to using k-nearest neighbors:\n",
    "\n",
    "- high memory usage (for each new unseen observation, many comparisons need to be made to seen observations)\n",
    "- no model representation to debug and explore\n",
    "\n",
    "Let's now try a neural network with a single hidden layer."
   ]
  },
  {
   "cell_type": "markdown",
   "metadata": {},
   "source": [
    "### Neural Network with a single hidden layer"
   ]
  },
  {
   "cell_type": "markdown",
   "metadata": {},
   "source": [
    "We will train and test several neural netweork model with a single layer with different numbers of neurons. In particular n = 8, 16, 32, 64, 128, 256. For each model we will use the function **cross_validate** to compute the mean squared error and the accuracy of the model in predicting the handwritten digits."
   ]
  },
  {
   "cell_type": "code",
   "execution_count": 13,
   "metadata": {},
   "outputs": [
    {
     "name": "stdout",
     "output_type": "stream",
     "text": [
      "number of neurons:  8\n",
      "------------\n",
      "iteration #1\n",
      "iteration #2\n",
      "iteration #3\n",
      "iteration #4\n",
      "number of neurons:  16\n",
      "------------\n",
      "iteration #1\n",
      "iteration #2\n",
      "iteration #3\n",
      "iteration #4\n",
      "number of neurons:  32\n",
      "------------\n",
      "iteration #1\n",
      "iteration #2\n",
      "iteration #3\n",
      "iteration #4\n",
      "number of neurons:  64\n",
      "------------\n",
      "iteration #1\n",
      "iteration #2\n",
      "iteration #3\n",
      "iteration #4\n",
      "number of neurons:  128\n",
      "------------\n",
      "iteration #1\n",
      "iteration #2\n",
      "iteration #3\n",
      "iteration #4\n",
      "number of neurons:  256\n",
      "------------\n",
      "iteration #1\n",
      "iteration #2\n",
      "iteration #3\n",
      "iteration #4\n"
     ]
    }
   ],
   "source": [
    "N = [8, 16, 32, 64, 128, 256]\n",
    "mse_vect_test = []\n",
    "mse_vect_train = []\n",
    "acc_vect_test = []\n",
    "acc_vect_train = []\n",
    "for n in N:\n",
    "    print 'number of neurons: ', n\n",
    "    model = MLPClassifier(hidden_layer_sizes=(n,))\n",
    "    avg_mse_test, avg_mse_train, avg_acc_test, avg_acc_train = cross_validate(model, df, labels, 4)\n",
    "    mse_vect_test.append(avg_mse_test)\n",
    "    mse_vect_train.append(avg_mse_train)\n",
    "    acc_vect_test.append(avg_acc_test)\n",
    "    acc_vect_train.append(avg_acc_train)"
   ]
  },
  {
   "cell_type": "code",
   "execution_count": 14,
   "metadata": {},
   "outputs": [
    {
     "data": {
      "image/png": "[encoded data removed]",
      "text/plain": [
       "<Figure size 504x504 with 1 Axes>"
      ]
     },
     "metadata": {},
     "output_type": "display_data"
    }
   ],
   "source": [
    "# plot accuracy results\n",
    "acc_vect_nn_test = acc_vect_test\n",
    "acc_vect_nn_train = acc_vect_train\n",
    "plt.style.use('fivethirtyeight')\n",
    "plt.figure(figsize=(7,7))\n",
    "plt.scatter(N, acc_vect_nn_test, s=80)\n",
    "plt.scatter(N, acc_vect_nn_train, s=80, c = 'red')\n",
    "plt.title('NN with one single layer Accuracy for different number of neurons')\n",
    "plt.ylabel('Accuracy')\n",
    "plt.xlabel('number of neurons')\n",
    "plt.legend(['Test Set', 'Training Set'])\n",
    "plt.show()"
   ]
  },
  {
   "cell_type": "code",
   "execution_count": 15,
   "metadata": {},
   "outputs": [
    {
     "name": "stdout",
     "output_type": "stream",
     "text": [
      "The Accuracy for number of neurons =  8  is acc =  0.9232083642662707\n",
      "The Accuracy for number of neurons =  16  is acc =  0.9571492204899776\n",
      "The Accuracy for number of neurons =  32  is acc =  0.959382578569661\n",
      "The Accuracy for number of neurons =  64  is acc =  0.97106285572878\n",
      "The Accuracy for number of neurons =  128  is acc =  0.976632021776788\n",
      "The Accuracy for number of neurons =  256  is acc =  0.9771851026973521\n"
     ]
    }
   ],
   "source": [
    "for i, n in enumerate (N):\n",
    "    print 'The Accuracy for number of neurons = ',n,' is acc = ', acc_vect_nn_test[i]"
   ]
  },
  {
   "cell_type": "markdown",
   "metadata": {
    "collapsed": true
   },
   "source": [
    "Adding more neurons to a single hidden layer vastly improved the classification accuracy, without a big overfitting (at least up to the tested number of neurons (256)).\n",
    "\n",
    "Let's try to use two hidden layers and continue to increase the number of neurons in each layer."
   ]
  },
  {
   "cell_type": "markdown",
   "metadata": {},
   "source": [
    "### Neural Network with two hidden layers"
   ]
  },
  {
   "cell_type": "markdown",
   "metadata": {},
   "source": [
    "Let us modify the neural network training pipeline to use 2 hidden layers instead in the network, with 64 neurons each."
   ]
  },
  {
   "cell_type": "code",
   "execution_count": 16,
   "metadata": {},
   "outputs": [
    {
     "name": "stdout",
     "output_type": "stream",
     "text": [
      "------------\n",
      "iteration #1\n",
      "iteration #2\n",
      "iteration #3\n",
      "iteration #4\n",
      "The accuracy of the test set is = 0.9699455580301906\n",
      "The accuracy of the training set is = 1.0\n"
     ]
    }
   ],
   "source": [
    "model = MLPClassifier(hidden_layer_sizes=(64,64))\n",
    "avg_mse_test, avg_mse_train, avg_acc_test, avg_acc_train = cross_validate(model, df, labels, 4)\n",
    "print('The accuracy of the test set is = ' + str(avg_acc_test))\n",
    "print('The accuracy of the training set is = ' + str(avg_acc_train))"
   ]
  },
  {
   "cell_type": "markdown",
   "metadata": {},
   "source": [
    "We can compare these results with a neural network with only one layer (but with the same number of neurons)"
   ]
  },
  {
   "cell_type": "code",
   "execution_count": 17,
   "metadata": {},
   "outputs": [
    {
     "name": "stdout",
     "output_type": "stream",
     "text": [
      "------------\n",
      "iteration #1\n",
      "iteration #2\n",
      "iteration #3\n",
      "iteration #4\n",
      "The accuracy of the test set is = 0.9677307597129423\n",
      "The accuracy of the training set is = 1.0\n"
     ]
    }
   ],
   "source": [
    "model = MLPClassifier(hidden_layer_sizes=(64,))\n",
    "avg_mse_test, avg_mse_train, avg_acc_test, avg_acc_train = cross_validate(model, df, labels, 4)\n",
    "print('The accuracy of the test set is = ' + str(avg_acc_test))\n",
    "print('The accuracy of the training set is = ' + str(avg_acc_train))"
   ]
  },
  {
   "cell_type": "markdown",
   "metadata": {},
   "source": [
    "Using more hidden layers slighly improve the accuracy of the classification but it is known to increase also the amount of overfitting that happens. To help us prevent overfitting, let's increase the number of folds we use for k-fold cross validation to 6 while testing networks with 3 hidden layers."
   ]
  },
  {
   "cell_type": "code",
   "execution_count": 18,
   "metadata": {},
   "outputs": [
    {
     "name": "stdout",
     "output_type": "stream",
     "text": [
      "------------\n",
      "iteration #1\n",
      "iteration #2\n",
      "iteration #3\n",
      "iteration #4\n",
      "iteration #5\n",
      "iteration #6\n",
      "------------\n",
      "iteration #1\n",
      "iteration #2\n",
      "iteration #3\n",
      "iteration #4\n",
      "iteration #5\n",
      "iteration #6\n",
      "------------\n",
      "iteration #1\n",
      "iteration #2\n",
      "iteration #3\n",
      "iteration #4\n",
      "iteration #5\n",
      "iteration #6\n",
      "------------\n",
      "iteration #1\n",
      "iteration #2\n",
      "iteration #3\n",
      "iteration #4\n",
      "iteration #5\n",
      "iteration #6\n"
     ]
    }
   ],
   "source": [
    "neurons = [10, 64, 128, 256]\n",
    "acc_test = []\n",
    "acc_train = []\n",
    "for n in neurons:\n",
    "    model = MLPClassifier(hidden_layer_sizes=(n, n, n))\n",
    "    avg_mse_test, avg_mse_train, avg_acc_test, avg_acc_train = cross_validate(model, df, labels, 6)\n",
    "    acc_test.append(avg_acc_test)\n",
    "    acc_train.append(avg_acc_train)  "
   ]
  },
  {
   "cell_type": "code",
   "execution_count": 19,
   "metadata": {},
   "outputs": [
    {
     "data": {
      "image/png": "[encoded data removed]",
      "text/plain": [
       "<Figure size 504x504 with 1 Axes>"
      ]
     },
     "metadata": {},
     "output_type": "display_data"
    }
   ],
   "source": [
    "# plot results\n",
    "plt.style.use('fivethirtyeight')\n",
    "plt.figure(figsize=(7,7))\n",
    "plt.scatter(neurons, acc_test, s=80)\n",
    "plt.scatter(neurons, acc_train, s=80, c = 'red')\n",
    "plt.title('Accuracy for different number of neurons in a three layers neural network')\n",
    "plt.legend(['Test Set', 'Training Set'])\n",
    "plt.ylabel('Accuracy')\n",
    "plt.xlabel('number of neurons for each layer')\n",
    "plt.show()"
   ]
  },
  {
   "cell_type": "code",
   "execution_count": 21,
   "metadata": {},
   "outputs": [
    {
     "name": "stdout",
     "output_type": "stream",
     "text": [
      "The Accuracy for number of neurons =  10  is acc =  0.9282218506131551\n",
      "The Accuracy for number of neurons =  64  is acc =  0.9755146785581568\n",
      "The Accuracy for number of neurons =  128  is acc =  0.980522110739502\n",
      "The Accuracy for number of neurons =  256  is acc =  0.9844202898550724\n"
     ]
    }
   ],
   "source": [
    "for i, n in enumerate (neurons):\n",
    "    print 'The Accuracy for number of neurons = ',n,' is acc = ', acc_test[i]"
   ]
  },
  {
   "cell_type": "markdown",
   "metadata": {},
   "source": [
    "Increasing the number of folders in the cross validation helps in reducing the gap between the accuracy of the training set and the one of the test set when more neurons are added in each layer: the accuracy of the training set remains at 1.00 while the one of the one of the test set increases from 0.97 (when we use 4-fold cross validation) to 0.98 (when 6 folders are used). "
   ]
  },
  {
   "cell_type": "markdown",
   "metadata": {
    "collapsed": true
   },
   "source": [
    "## Conclusion"
   ]
  },
  {
   "cell_type": "markdown",
   "metadata": {},
   "source": [
    "In this project we evaluate two different machine learning methods to classify handwritten digits: k-nearest neighboor and neural network.\n",
    "k-nearest neighboor performances, as expected, depend on the value of the number of neighboors (k) we select in order to assign a specific label to our data sample. For very small k values the method clearly overfit indeed the accuracy given by the test set and the one of the training set diverge. For bigger values of k, the model is too simple and the accuracy decreases significantly. The best value of k that provides a good accuracy is k=3, with an accuracy on the training set of almost 0.99. \n",
    "For the neural network we started by considering one neural network with one single layer and we test it while changing the number of neurons inside the hidden layer. Increasing the number of neurons results in an increse of the overall accuracy (in particular from 0.89 for 8 neurons to 0.98 for 256 neurons). After that we increase the number of layers. One problem with the increment of the number of layer could be the the overfitting so in order to limit it we increase the number of folders in the cross validation process and we could appreciate a slight increment of the accuracy (from 0.982 to 0.984). However such increment does not justify the addition of two more layers in the model. \n",
    "\n",
    "From this analysis it looks like that the best models/methods, which are k-nn with k=3 (accuracy = 0.99) and one neural network with one single layer with 8 neurons (accuracy = 0.98), have similar performances. Although the k-nn method has a slightly better accuracy, beacuse of the downsides explained before maybe not be the best choice. \n",
    "The neural network with one single layer with 8 neurons can be considered, for the previous reasonings, the best option to classify handwritten digit."
   ]
  },
  {
   "cell_type": "code",
   "execution_count": null,
   "metadata": {},
   "outputs": [],
   "source": []
  }
 ],
 "metadata": {
  "anaconda-cloud": {},
  "kernelspec": {
   "display_name": "Python 2",
   "language": "python",
   "name": "python2"
  },
  "language_info": {
   "codemirror_mode": {
    "name": "ipython",
    "version": 2
   },
   "file_extension": ".py",
   "mimetype": "text/x-python",
   "name": "python",
   "nbconvert_exporter": "python",
   "pygments_lexer": "ipython2",
   "version": "2.7.15"
  }
 },
 "nbformat": 4,
 "nbformat_minor": 2
}
